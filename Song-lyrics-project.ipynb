{
 "cells": [
  {
   "cell_type": "code",
   "execution_count": 82,
   "metadata": {},
   "outputs": [
    {
     "name": "stderr",
     "output_type": "stream",
     "text": [
      "[nltk_data] Downloading package wordnet to\n",
      "[nltk_data]     C:\\Users\\49178\\AppData\\Roaming\\nltk_data...\n",
      "[nltk_data]   Package wordnet is already up-to-date!\n"
     ]
    }
   ],
   "source": [
    "import requests\n",
    "from bs4 import BeautifulSoup\n",
    "import re\n",
    "import sys\n",
    "import pandas as pd\n",
    "from sklearn.feature_extraction.text import CountVectorizer\n",
    "from nltk import stem\n",
    "import nltk\n",
    "nltk.download('wordnet')\n",
    "import pickle\n",
    "from sklearn.naive_bayes import MultinomialNB\n",
    "from sklearn.model_selection import cross_val_score\n",
    "import numpy as np\n",
    "from sklearn.linear_model import LogisticRegression\n",
    "from sklearn.metrics import precision_recall_curve\n",
    "from sklearn.metrics import plot_precision_recall_curve\n",
    "from sklearn.metrics import precision_score\n",
    "from sklearn.metrics import recall_score\n",
    "import matplotlib.pyplot as plt\n",
    "from sklearn.ensemble import RandomForestClassifier \n",
    "from sklearn.metrics import classification_report\n",
    "import time"
   ]
  },
  {
   "cell_type": "code",
   "execution_count": 83,
   "metadata": {},
   "outputs": [],
   "source": [
    "def gets_links(artist:str)->list:\n",
    "    base_url= \"https://www.azlyrics.com\"\n",
    "    #url = f\"{ base_url}/{artist[0]}/{artist}.html\"\n",
    "    url = base_url + \"/{}/{}.html\".format(artist[0],artist)\n",
    " # param_dict = {'db':'pubmed', 'term':'escherichia', 'rettype':'uilist'}\n",
    " # headers = {'User-Agent': 'Mozilla/5.0 (Macintosh; Intel Mac OS X 10_10_1) AppleWebKit/537.36 (KHTML, like Gecko) Chrome/39.0.2171.95 Safari/537.36'}\n",
    "    page = requests.get(url)\n",
    "    soup = BeautifulSoup(page.text, \"html.parser\")\n",
    "    \n",
    "    linkarray = []\n",
    "    for link in soup.find_all(href=re.compile(f\"/lyrics/{artist}\")):\n",
    "        href = link.get('href')\n",
    "        removedots = href[2:]\n",
    "        linkarray.append(base_url + removedots)\n",
    "    return linkarray\n",
    "    time.sleep(10)"
   ]
  },
  {
   "cell_type": "code",
   "execution_count": 84,
   "metadata": {},
   "outputs": [],
   "source": [
    "art1=gets_links('kaleo')   #getting links\n",
    "art2=gets_links('logic')"
   ]
  },
  {
   "cell_type": "code",
   "execution_count": 85,
   "metadata": {},
   "outputs": [],
   "source": [
    "def songs_lyrics():   #selecting the songs \n",
    "    time.sleep(10)\n",
    "    urls={}\n",
    "    urls['nogood']=art1[10]\n",
    "    urls['vor']=art1[9]\n",
    "    urls['glasshouse']=art1[0]\n",
    "    urls['fool']=art1[3]\n",
    "    urls['broken']=art1[2]\n",
    "    urls['hunger']=art2[2]\n",
    "    urls['times']=art2[9]\n",
    "    urls['logic']=art2[1]\n",
    "    urls['tip']=art2[4]\n",
    "    urls['onlock']= art2[5]\n",
    "    urls['background']=art2[3]\n",
    "    urls['stain']=art2[12]\n",
    "    return urls\n",
    "    \n",
    "    \n"
   ]
  },
  {
   "cell_type": "code",
   "execution_count": 86,
   "metadata": {},
   "outputs": [
    {
     "data": {
      "text/plain": [
       "{'nogood': 'https://www.azlyrics.com/lyrics/kaleo/nogood.html',\n",
       " 'vor': 'https://www.azlyrics.com/lyrics/kaleo/vorvaglaskgi.html',\n",
       " 'glasshouse': 'https://www.azlyrics.com/lyrics/kaleo/glasshouse.html',\n",
       " 'fool': 'https://www.azlyrics.com/lyrics/kaleo/fool.html',\n",
       " 'broken': 'https://www.azlyrics.com/lyrics/kaleo/brokenbones.html',\n",
       " 'hunger': 'https://www.azlyrics.com/lyrics/logic/hunger.html',\n",
       " 'times': 'https://www.azlyrics.com/lyrics/logic/timeigive.html',\n",
       " 'logic': 'https://www.azlyrics.com/lyrics/logic/logiconthebeat.html',\n",
       " 'tip': 'https://www.azlyrics.com/lyrics/logic/95tip.html',\n",
       " 'onlock': 'https://www.azlyrics.com/lyrics/logic/onlock.html',\n",
       " 'background': 'https://www.azlyrics.com/lyrics/logic/backgroundcheck.html',\n",
       " 'stain': 'https://www.azlyrics.com/lyrics/logic/staininthegame.html'}"
      ]
     },
     "execution_count": 86,
     "metadata": {},
     "output_type": "execute_result"
    }
   ],
   "source": [
    "urls=songs_lyrics() #defining the variable with the song_lyrics list\n",
    "urls"
   ]
  },
  {
   "cell_type": "code",
   "execution_count": 87,
   "metadata": {},
   "outputs": [],
   "source": [
    "artists=['kaleo']*5+['logic']*7    #assigning the singers to the songs\n",
    "artists=pd.DataFrame(artists) ##created a dataframe with the list artist\n"
   ]
  },
  {
   "cell_type": "code",
   "execution_count": 88,
   "metadata": {},
   "outputs": [
    {
     "name": "stdout",
     "output_type": "stream",
     "text": [
      "nogood https://www.azlyrics.com/lyrics/kaleo/nogood.html\n",
      "vor https://www.azlyrics.com/lyrics/kaleo/vorvaglaskgi.html\n",
      "glasshouse https://www.azlyrics.com/lyrics/kaleo/glasshouse.html\n",
      "fool https://www.azlyrics.com/lyrics/kaleo/fool.html\n",
      "broken https://www.azlyrics.com/lyrics/kaleo/brokenbones.html\n",
      "hunger https://www.azlyrics.com/lyrics/logic/hunger.html\n",
      "times https://www.azlyrics.com/lyrics/logic/timeigive.html\n",
      "logic https://www.azlyrics.com/lyrics/logic/logiconthebeat.html\n",
      "tip https://www.azlyrics.com/lyrics/logic/95tip.html\n",
      "onlock https://www.azlyrics.com/lyrics/logic/onlock.html\n",
      "background https://www.azlyrics.com/lyrics/logic/backgroundcheck.html\n",
      "stain https://www.azlyrics.com/lyrics/logic/staininthegame.html\n",
      "                                                    0\n",
      "0        \"No Good\"   \\r Can't fight the temptation...\n",
      "1        \"Vor Ã VaglaskÃ³gi\"   \\r KvÃ¶ldiÃ° er ok...\n",
      "2        \"Glass House\"   \\r Well I don't need much...\n",
      "3        \"Fool\"   \\r Oh yeah, come on That's right...\n",
      "4        \"Broken Bones\"   \\r The devil's going to ...\n",
      "5        \"Hunger\"   \\r Psychological! Damn right H...\n",
      "6        \"Time I Give\"   \\r I know the time I give...\n",
      "7        \"Logic On The Beat\"   \\r Yeah it's Logic ...\n",
      "8        \"'95 Tip\"   \\r This right here, homie Thi...\n",
      "9        \"On Lock\"   \\r Going so you know I'm tryi...\n",
      "10       \"Background Check\"   \\r Psychological!  I...\n",
      "11       \"Stain In The Game\"    [Logic:] Flyer, th...\n"
     ]
    }
   ],
   "source": [
    "lyrics_data=[]    #assigning the singers names to the corresponding songs' lyrics\n",
    "for lyric in urls:\n",
    "    url=urls[lyric]\n",
    "    print(lyric, url)\n",
    "    time.sleep(10)\n",
    "    request=requests.get(url).text\n",
    "    soup=BeautifulSoup(request)\n",
    "    lyrics=[x.text for x in soup.find_all(attrs={'class':\"col-xs-12 col-lg-8 text-center\"})][0]\n",
    "    lyrics = lyrics.replace(\"\\n\",\" \")\n",
    "    lyrics = lyrics.split(\"Submit Corrections\",1)[0]\n",
    "    lyrics = lyrics.split(\"Lyrics\",1)[1]\n",
    "    lyrics_data.append(lyrics)\n",
    "    \n",
    "df=pd.DataFrame(lyrics_data) #creating a dataframe with the list of lyrics\n",
    "df.to_csv('lyrics_data.csv') #convert and save it csv file\n",
    "print(df)\n",
    "   \n"
   ]
  },
  {
   "cell_type": "code",
   "execution_count": 89,
   "metadata": {},
   "outputs": [
    {
     "data": {
      "text/html": [
       "<div>\n",
       "<style scoped>\n",
       "    .dataframe tbody tr th:only-of-type {\n",
       "        vertical-align: middle;\n",
       "    }\n",
       "\n",
       "    .dataframe tbody tr th {\n",
       "        vertical-align: top;\n",
       "    }\n",
       "\n",
       "    .dataframe thead th {\n",
       "        text-align: right;\n",
       "    }\n",
       "</style>\n",
       "<table border=\"1\" class=\"dataframe\">\n",
       "  <thead>\n",
       "    <tr style=\"text-align: right;\">\n",
       "      <th></th>\n",
       "      <th>lyrics</th>\n",
       "      <th>artists</th>\n",
       "    </tr>\n",
       "  </thead>\n",
       "  <tbody>\n",
       "    <tr>\n",
       "      <th>0</th>\n",
       "      <td>\"No Good\"   \\r Can't fight the temptation...</td>\n",
       "      <td>kaleo</td>\n",
       "    </tr>\n",
       "    <tr>\n",
       "      <th>1</th>\n",
       "      <td>\"Vor Ã VaglaskÃ³gi\"   \\r KvÃ¶ldiÃ° er ok...</td>\n",
       "      <td>kaleo</td>\n",
       "    </tr>\n",
       "    <tr>\n",
       "      <th>2</th>\n",
       "      <td>\"Glass House\"   \\r Well I don't need much...</td>\n",
       "      <td>kaleo</td>\n",
       "    </tr>\n",
       "    <tr>\n",
       "      <th>3</th>\n",
       "      <td>\"Fool\"   \\r Oh yeah, come on That's right...</td>\n",
       "      <td>kaleo</td>\n",
       "    </tr>\n",
       "    <tr>\n",
       "      <th>4</th>\n",
       "      <td>\"Broken Bones\"   \\r The devil's going to ...</td>\n",
       "      <td>kaleo</td>\n",
       "    </tr>\n",
       "    <tr>\n",
       "      <th>5</th>\n",
       "      <td>\"Hunger\"   \\r Psychological! Damn right H...</td>\n",
       "      <td>logic</td>\n",
       "    </tr>\n",
       "    <tr>\n",
       "      <th>6</th>\n",
       "      <td>\"Time I Give\"   \\r I know the time I give...</td>\n",
       "      <td>logic</td>\n",
       "    </tr>\n",
       "    <tr>\n",
       "      <th>7</th>\n",
       "      <td>\"Logic On The Beat\"   \\r Yeah it's Logic ...</td>\n",
       "      <td>logic</td>\n",
       "    </tr>\n",
       "    <tr>\n",
       "      <th>8</th>\n",
       "      <td>\"'95 Tip\"   \\r This right here, homie Thi...</td>\n",
       "      <td>logic</td>\n",
       "    </tr>\n",
       "    <tr>\n",
       "      <th>9</th>\n",
       "      <td>\"On Lock\"   \\r Going so you know I'm tryi...</td>\n",
       "      <td>logic</td>\n",
       "    </tr>\n",
       "    <tr>\n",
       "      <th>10</th>\n",
       "      <td>\"Background Check\"   \\r Psychological!  I...</td>\n",
       "      <td>logic</td>\n",
       "    </tr>\n",
       "    <tr>\n",
       "      <th>11</th>\n",
       "      <td>\"Stain In The Game\"    [Logic:] Flyer, th...</td>\n",
       "      <td>logic</td>\n",
       "    </tr>\n",
       "  </tbody>\n",
       "</table>\n",
       "</div>"
      ],
      "text/plain": [
       "                                               lyrics artists\n",
       "0        \"No Good\"   \\r Can't fight the temptation...   kaleo\n",
       "1        \"Vor Ã VaglaskÃ³gi\"   \\r KvÃ¶ldiÃ° er ok...   kaleo\n",
       "2        \"Glass House\"   \\r Well I don't need much...   kaleo\n",
       "3        \"Fool\"   \\r Oh yeah, come on That's right...   kaleo\n",
       "4        \"Broken Bones\"   \\r The devil's going to ...   kaleo\n",
       "5        \"Hunger\"   \\r Psychological! Damn right H...   logic\n",
       "6        \"Time I Give\"   \\r I know the time I give...   logic\n",
       "7        \"Logic On The Beat\"   \\r Yeah it's Logic ...   logic\n",
       "8        \"'95 Tip\"   \\r This right here, homie Thi...   logic\n",
       "9        \"On Lock\"   \\r Going so you know I'm tryi...   logic\n",
       "10       \"Background Check\"   \\r Psychological!  I...   logic\n",
       "11       \"Stain In The Game\"    [Logic:] Flyer, th...   logic"
      ]
     },
     "execution_count": 89,
     "metadata": {},
     "output_type": "execute_result"
    }
   ],
   "source": [
    "df['artists']=artists   #defining the column name of artist\n",
    "df.columns =['lyrics','artists'] #defining all the columns\n",
    "df.to_csv('lyrics_data.csv') #save to csv file\n",
    "df"
   ]
  },
  {
   "cell_type": "code",
   "execution_count": 90,
   "metadata": {},
   "outputs": [],
   "source": [
    "X=df['lyrics'] #defining x\n",
    "y=df['artists'] #defininig y"
   ]
  },
  {
   "cell_type": "code",
   "execution_count": 91,
   "metadata": {},
   "outputs": [
    {
     "name": "stdout",
     "output_type": "stream",
     "text": [
      "     \"No Good\"   \r",
      " Can't fight the temptation When you get the vibration Won't do you no good Won't do you no good  You better start running When you hear the man coming Won't do you no good Won't do you no good  No we don't mind If you don't mind Hell I never mind  Don't let the mold break you Let the feeling come take you Won't do you no good Won't do you no good  And you know I got fever When you hit me right, you know you might as well Won't do you no good Said it won't do you no good  And I said, kiss your baby goodbye Come on, love, it's alright! Heaven knows they wanna break you apart, yeah  Kiss your baby goodbye Come on, love, it's alright! You never know unless you give it a try Oh baby  Said do you no good  Can't fight the temptation When you get the vibration Won't do you no good Won't do you no good And you can tell I got fever You try to shake it off, try it all you want Won't do you no good Said it won't do you no good  And I said, kiss your baby goodbye Come on, love, it's alright Heaven knows they wanna break you apart, yeah  Kiss your baby goodbye Come on, love, it's alright You never know unless you give it a try, oh yeah!  Yeah, yeah! Whoa, yeah! No, no, baby Yeah!  Whoa yeah! Want my sweet little baby Whoa you're no good babe Yeah! I said yeah One day yeah, baby! Ah yeah! Woo! Oh yeah!                   \n"
     ]
    }
   ],
   "source": [
    "print(X[0]) #checking how does X look"
   ]
  },
  {
   "cell_type": "code",
   "execution_count": 92,
   "metadata": {},
   "outputs": [
    {
     "data": {
      "text/plain": [
       "1346"
      ]
     },
     "execution_count": 92,
     "metadata": {},
     "output_type": "execute_result"
    }
   ],
   "source": [
    "len(X[0]) #checking the length of the first lyrics in X"
   ]
  },
  {
   "cell_type": "code",
   "execution_count": 93,
   "metadata": {},
   "outputs": [],
   "source": [
    "import spacy \n",
    "model = spacy.load('en_core_web_md')"
   ]
  },
  {
   "cell_type": "code",
   "execution_count": 94,
   "metadata": {},
   "outputs": [],
   "source": [
    "def clean_my_string(string):\n",
    "    \"\"\"use spacy to tokenize, lemmatize and remove stop words\"\"\"\n",
    "    clean_string = []\n",
    "    token_string = model(string)\n",
    "    for token in token_string:\n",
    "        if not token.is_stop and not token.is_punct and not token.like_num:\n",
    "            clean_string.append(token.lemma_)\n",
    "    return ' '.join(clean_string)"
   ]
  },
  {
   "cell_type": "code",
   "execution_count": 95,
   "metadata": {},
   "outputs": [],
   "source": [
    "clean_lyrics_data=[]\n",
    "for item in X: \n",
    "    item=clean_my_string(item)\n",
    "    clean_lyrics_data.append(item)"
   ]
  },
  {
   "cell_type": "code",
   "execution_count": 96,
   "metadata": {},
   "outputs": [
    {
     "name": "stdout",
     "output_type": "stream",
     "text": [
      "670 703\n"
     ]
    }
   ],
   "source": [
    "#checking the difference in length after spacy cleaning\n",
    "print(len(X[1]),len(clean_lyrics_data[1]))\n"
   ]
  },
  {
   "cell_type": "code",
   "execution_count": 97,
   "metadata": {},
   "outputs": [],
   "source": [
    "#saving to pickles\n",
    "with open('clean_lyrics_data.pickle', 'wb') as file:\n",
    "    pickle.dump(clean_lyrics_data,file)"
   ]
  },
  {
   "cell_type": "code",
   "execution_count": 98,
   "metadata": {},
   "outputs": [],
   "source": [
    "#loading pickled files\n",
    "with open('clean_lyrics_data.pickle', 'rb') as f:\n",
    "      clean_lyrics_data = pickle.load(f)"
   ]
  },
  {
   "cell_type": "code",
   "execution_count": 99,
   "metadata": {},
   "outputs": [],
   "source": [
    "df1=pd.DataFrame(clean_lyrics_data) \n",
    "df1.columns =['lyrics']"
   ]
  },
  {
   "cell_type": "code",
   "execution_count": 100,
   "metadata": {},
   "outputs": [
    {
     "data": {
      "text/html": [
       "<div>\n",
       "<style scoped>\n",
       "    .dataframe tbody tr th:only-of-type {\n",
       "        vertical-align: middle;\n",
       "    }\n",
       "\n",
       "    .dataframe tbody tr th {\n",
       "        vertical-align: top;\n",
       "    }\n",
       "\n",
       "    .dataframe thead th {\n",
       "        text-align: right;\n",
       "    }\n",
       "</style>\n",
       "<table border=\"1\" class=\"dataframe\">\n",
       "  <thead>\n",
       "    <tr style=\"text-align: right;\">\n",
       "      <th></th>\n",
       "      <th>lyrics</th>\n",
       "      <th>artists</th>\n",
       "    </tr>\n",
       "  </thead>\n",
       "  <tbody>\n",
       "    <tr>\n",
       "      <th>0</th>\n",
       "      <td>\"No Good\"   \\r Can't fight the temptation...</td>\n",
       "      <td>0</td>\n",
       "    </tr>\n",
       "    <tr>\n",
       "      <th>1</th>\n",
       "      <td>\"Vor Ã VaglaskÃ³gi\"   \\r KvÃ¶ldiÃ° er ok...</td>\n",
       "      <td>0</td>\n",
       "    </tr>\n",
       "    <tr>\n",
       "      <th>2</th>\n",
       "      <td>\"Glass House\"   \\r Well I don't need much...</td>\n",
       "      <td>0</td>\n",
       "    </tr>\n",
       "    <tr>\n",
       "      <th>3</th>\n",
       "      <td>\"Fool\"   \\r Oh yeah, come on That's right...</td>\n",
       "      <td>0</td>\n",
       "    </tr>\n",
       "    <tr>\n",
       "      <th>4</th>\n",
       "      <td>\"Broken Bones\"   \\r The devil's going to ...</td>\n",
       "      <td>0</td>\n",
       "    </tr>\n",
       "    <tr>\n",
       "      <th>5</th>\n",
       "      <td>\"Hunger\"   \\r Psychological! Damn right H...</td>\n",
       "      <td>1</td>\n",
       "    </tr>\n",
       "    <tr>\n",
       "      <th>6</th>\n",
       "      <td>\"Time I Give\"   \\r I know the time I give...</td>\n",
       "      <td>1</td>\n",
       "    </tr>\n",
       "    <tr>\n",
       "      <th>7</th>\n",
       "      <td>\"Logic On The Beat\"   \\r Yeah it's Logic ...</td>\n",
       "      <td>1</td>\n",
       "    </tr>\n",
       "    <tr>\n",
       "      <th>8</th>\n",
       "      <td>\"'95 Tip\"   \\r This right here, homie Thi...</td>\n",
       "      <td>1</td>\n",
       "    </tr>\n",
       "    <tr>\n",
       "      <th>9</th>\n",
       "      <td>\"On Lock\"   \\r Going so you know I'm tryi...</td>\n",
       "      <td>1</td>\n",
       "    </tr>\n",
       "    <tr>\n",
       "      <th>10</th>\n",
       "      <td>\"Background Check\"   \\r Psychological!  I...</td>\n",
       "      <td>1</td>\n",
       "    </tr>\n",
       "    <tr>\n",
       "      <th>11</th>\n",
       "      <td>\"Stain In The Game\"    [Logic:] Flyer, th...</td>\n",
       "      <td>1</td>\n",
       "    </tr>\n",
       "  </tbody>\n",
       "</table>\n",
       "</div>"
      ],
      "text/plain": [
       "                                               lyrics artists\n",
       "0        \"No Good\"   \\r Can't fight the temptation...       0\n",
       "1        \"Vor Ã VaglaskÃ³gi\"   \\r KvÃ¶ldiÃ° er ok...       0\n",
       "2        \"Glass House\"   \\r Well I don't need much...       0\n",
       "3        \"Fool\"   \\r Oh yeah, come on That's right...       0\n",
       "4        \"Broken Bones\"   \\r The devil's going to ...       0\n",
       "5        \"Hunger\"   \\r Psychological! Damn right H...       1\n",
       "6        \"Time I Give\"   \\r I know the time I give...       1\n",
       "7        \"Logic On The Beat\"   \\r Yeah it's Logic ...       1\n",
       "8        \"'95 Tip\"   \\r This right here, homie Thi...       1\n",
       "9        \"On Lock\"   \\r Going so you know I'm tryi...       1\n",
       "10       \"Background Check\"   \\r Psychological!  I...       1\n",
       "11       \"Stain In The Game\"    [Logic:] Flyer, th...       1"
      ]
     },
     "execution_count": 100,
     "metadata": {},
     "output_type": "execute_result"
    }
   ],
   "source": [
    "df['artists']=df ['artists'].replace(['kaleo'], '0')\n",
    "\n",
    "df['artists']=df ['artists'].replace(['logic'], '1')\n",
    "df"
   ]
  },
  {
   "cell_type": "code",
   "execution_count": 101,
   "metadata": {},
   "outputs": [],
   "source": [
    "df['lyrics'] = df1['lyrics']"
   ]
  },
  {
   "cell_type": "code",
   "execution_count": 102,
   "metadata": {},
   "outputs": [
    {
     "data": {
      "text/plain": [
       "'      good   \\r  fight temptation vibration wo good wo good   well start run hear man come wo good wo good   mind mind hell mind   let mold break let feeling come wo good wo good   know get fever hit right know wo good say wo good   say kiss baby goodbye come love alright Heaven know wanna break apart yeah   kiss baby goodbye come love alright know try oh baby   Said good   fight temptation vibration wo good wo good tell get fever try shake try want wo good say wo good   say kiss baby goodbye come love alright Heaven know wanna break apart yeah   kiss baby goodbye come love alright know try oh yeah   yeah yeah whoa yeah baby yeah   whoa yeah want sweet little baby whoa good babe yeah say yeah day yeah baby ah yeah woo oh yeah                   '"
      ]
     },
     "execution_count": 102,
     "metadata": {},
     "output_type": "execute_result"
    }
   ],
   "source": [
    "df['lyrics'][0]"
   ]
  },
  {
   "cell_type": "code",
   "execution_count": 103,
   "metadata": {},
   "outputs": [],
   "source": [
    "#saving df\n",
    "pickle.dump(df, open('df.pkl',\"wb\"))"
   ]
  },
  {
   "cell_type": "code",
   "execution_count": 104,
   "metadata": {},
   "outputs": [
    {
     "data": {
      "text/html": [
       "<div>\n",
       "<style scoped>\n",
       "    .dataframe tbody tr th:only-of-type {\n",
       "        vertical-align: middle;\n",
       "    }\n",
       "\n",
       "    .dataframe tbody tr th {\n",
       "        vertical-align: top;\n",
       "    }\n",
       "\n",
       "    .dataframe thead th {\n",
       "        text-align: right;\n",
       "    }\n",
       "</style>\n",
       "<table border=\"1\" class=\"dataframe\">\n",
       "  <thead>\n",
       "    <tr style=\"text-align: right;\">\n",
       "      <th></th>\n",
       "      <th>lyrics</th>\n",
       "      <th>artists</th>\n",
       "    </tr>\n",
       "  </thead>\n",
       "  <tbody>\n",
       "    <tr>\n",
       "      <th>0</th>\n",
       "      <td>good   \\r  fight temptation vibration wo...</td>\n",
       "      <td>0</td>\n",
       "    </tr>\n",
       "    <tr>\n",
       "      <th>1</th>\n",
       "      <td>Vor ã vaglaskã³gi   \\r  kvã¶ldiã ° er o...</td>\n",
       "      <td>0</td>\n",
       "    </tr>\n",
       "    <tr>\n",
       "      <th>2</th>\n",
       "      <td>Glass House   \\r  need need friend bitte...</td>\n",
       "      <td>0</td>\n",
       "    </tr>\n",
       "    <tr>\n",
       "      <th>3</th>\n",
       "      <td>Fool   \\r  oh yeah come right   Buddy co...</td>\n",
       "      <td>0</td>\n",
       "    </tr>\n",
       "    <tr>\n",
       "      <th>4</th>\n",
       "      <td>Broken Bones   \\r  devil go free man dev...</td>\n",
       "      <td>0</td>\n",
       "    </tr>\n",
       "    <tr>\n",
       "      <th>5</th>\n",
       "      <td>Hunger   \\r  psychological damn right he...</td>\n",
       "      <td>1</td>\n",
       "    </tr>\n",
       "    <tr>\n",
       "      <th>6</th>\n",
       "      <td>time   \\r  know time take away time live...</td>\n",
       "      <td>1</td>\n",
       "    </tr>\n",
       "    <tr>\n",
       "      <th>7</th>\n",
       "      <td>Logic beat   \\r  yeah logic beat fresh t...</td>\n",
       "      <td>1</td>\n",
       "    </tr>\n",
       "    <tr>\n",
       "      <th>8</th>\n",
       "      <td>Tip   \\r  right homie shit know say real...</td>\n",
       "      <td>1</td>\n",
       "    </tr>\n",
       "    <tr>\n",
       "      <th>9</th>\n",
       "      <td>Lock   \\r  go know try eye prize like wa...</td>\n",
       "      <td>1</td>\n",
       "    </tr>\n",
       "    <tr>\n",
       "      <th>10</th>\n",
       "      <td>background Check   \\r  psychological   m...</td>\n",
       "      <td>1</td>\n",
       "    </tr>\n",
       "    <tr>\n",
       "      <th>11</th>\n",
       "      <td>Stain Game     logic flyer rest 'em high...</td>\n",
       "      <td>1</td>\n",
       "    </tr>\n",
       "  </tbody>\n",
       "</table>\n",
       "</div>"
      ],
      "text/plain": [
       "                                               lyrics artists\n",
       "0         good   \\r  fight temptation vibration wo...       0\n",
       "1         Vor ã vaglaskã³gi   \\r  kvã¶ldiã ° er o...       0\n",
       "2         Glass House   \\r  need need friend bitte...       0\n",
       "3         Fool   \\r  oh yeah come right   Buddy co...       0\n",
       "4         Broken Bones   \\r  devil go free man dev...       0\n",
       "5         Hunger   \\r  psychological damn right he...       1\n",
       "6         time   \\r  know time take away time live...       1\n",
       "7         Logic beat   \\r  yeah logic beat fresh t...       1\n",
       "8         Tip   \\r  right homie shit know say real...       1\n",
       "9         Lock   \\r  go know try eye prize like wa...       1\n",
       "10        background Check   \\r  psychological   m...       1\n",
       "11        Stain Game     logic flyer rest 'em high...       1"
      ]
     },
     "execution_count": 104,
     "metadata": {},
     "output_type": "execute_result"
    }
   ],
   "source": [
    "#reading saved df\n",
    "df=pd.read_pickle('df.pkl')\n",
    "df"
   ]
  },
  {
   "cell_type": "code",
   "execution_count": 105,
   "metadata": {},
   "outputs": [],
   "source": [
    "def clean_lyrics_from_numbers(text):\n",
    "    'remove words containing numbers'\n",
    "    text = re.sub('\\w*\\d\\w*', '', text)\n",
    "    return text"
   ]
  },
  {
   "cell_type": "code",
   "execution_count": 106,
   "metadata": {},
   "outputs": [],
   "source": [
    "df['lyrics'] = df['lyrics'].apply(clean_lyrics_from_numbers)"
   ]
  },
  {
   "cell_type": "code",
   "execution_count": 107,
   "metadata": {},
   "outputs": [],
   "source": [
    "X=df['lyrics']\n",
    "y=df['artists']"
   ]
  },
  {
   "cell_type": "code",
   "execution_count": 108,
   "metadata": {},
   "outputs": [],
   "source": [
    "from sklearn.model_selection import train_test_split\n",
    "\n",
    "X_train, X_test, y_train, y_test = train_test_split(X, y, random_state=42)"
   ]
  },
  {
   "cell_type": "code",
   "execution_count": 109,
   "metadata": {},
   "outputs": [
    {
     "data": {
      "text/plain": [
       "((9,), (9,))"
      ]
     },
     "execution_count": 109,
     "metadata": {},
     "output_type": "execute_result"
    }
   ],
   "source": [
    "X_train.shape,y_train.shape"
   ]
  },
  {
   "cell_type": "code",
   "execution_count": 110,
   "metadata": {},
   "outputs": [],
   "source": [
    "from sklearn.feature_extraction.text import TfidfVectorizer"
   ]
  },
  {
   "cell_type": "code",
   "execution_count": 111,
   "metadata": {},
   "outputs": [],
   "source": [
    "cv = CountVectorizer()\n",
    "tf = TfidfVectorizer()"
   ]
  },
  {
   "cell_type": "code",
   "execution_count": 112,
   "metadata": {},
   "outputs": [
    {
     "data": {
      "text/plain": [
       "<9x567 sparse matrix of type '<class 'numpy.float64'>'\n",
       "\twith 764 stored elements in Compressed Sparse Row format>"
      ]
     },
     "execution_count": 112,
     "metadata": {},
     "output_type": "execute_result"
    }
   ],
   "source": [
    "vectorized_lyrics = tf.fit_transform(X_train) #creating sparse matrix\n",
    "vectorized_lyrics"
   ]
  },
  {
   "cell_type": "code",
   "execution_count": 113,
   "metadata": {},
   "outputs": [],
   "source": [
    "X_test_transf=tf.transform(X_test).toarray()\n"
   ]
  },
  {
   "cell_type": "code",
   "execution_count": 114,
   "metadata": {},
   "outputs": [
    {
     "data": {
      "text/html": [
       "<div>\n",
       "<style scoped>\n",
       "    .dataframe tbody tr th:only-of-type {\n",
       "        vertical-align: middle;\n",
       "    }\n",
       "\n",
       "    .dataframe tbody tr th {\n",
       "        vertical-align: top;\n",
       "    }\n",
       "\n",
       "    .dataframe thead th {\n",
       "        text-align: right;\n",
       "    }\n",
       "</style>\n",
       "<table border=\"1\" class=\"dataframe\">\n",
       "  <thead>\n",
       "    <tr style=\"text-align: right;\">\n",
       "      <th></th>\n",
       "      <th>acidic</th>\n",
       "      <th>acquit</th>\n",
       "      <th>admit</th>\n",
       "      <th>affect</th>\n",
       "      <th>ah</th>\n",
       "      <th>ahead</th>\n",
       "      <th>ai</th>\n",
       "      <th>aight</th>\n",
       "      <th>alien</th>\n",
       "      <th>all</th>\n",
       "      <th>...</th>\n",
       "      <th>write</th>\n",
       "      <th>writin</th>\n",
       "      <th>written</th>\n",
       "      <th>wrong</th>\n",
       "      <th>yeah</th>\n",
       "      <th>yes</th>\n",
       "      <th>young</th>\n",
       "      <th>zone</th>\n",
       "      <th>ã¾ar</th>\n",
       "      <th>ã¾ess</th>\n",
       "    </tr>\n",
       "  </thead>\n",
       "  <tbody>\n",
       "    <tr>\n",
       "      <th>0</th>\n",
       "      <td>0.00</td>\n",
       "      <td>0.00</td>\n",
       "      <td>0.00</td>\n",
       "      <td>0.00</td>\n",
       "      <td>0.06</td>\n",
       "      <td>0.00</td>\n",
       "      <td>0.00</td>\n",
       "      <td>0.00</td>\n",
       "      <td>0.00</td>\n",
       "      <td>0.06</td>\n",
       "      <td>...</td>\n",
       "      <td>0.00</td>\n",
       "      <td>0.00</td>\n",
       "      <td>0.00</td>\n",
       "      <td>0.00</td>\n",
       "      <td>0.08</td>\n",
       "      <td>0.00</td>\n",
       "      <td>0.00</td>\n",
       "      <td>0.00</td>\n",
       "      <td>0.00</td>\n",
       "      <td>0.00</td>\n",
       "    </tr>\n",
       "    <tr>\n",
       "      <th>1</th>\n",
       "      <td>0.00</td>\n",
       "      <td>0.00</td>\n",
       "      <td>0.00</td>\n",
       "      <td>0.11</td>\n",
       "      <td>0.00</td>\n",
       "      <td>0.11</td>\n",
       "      <td>0.13</td>\n",
       "      <td>0.00</td>\n",
       "      <td>0.00</td>\n",
       "      <td>0.00</td>\n",
       "      <td>...</td>\n",
       "      <td>0.11</td>\n",
       "      <td>0.00</td>\n",
       "      <td>0.00</td>\n",
       "      <td>0.00</td>\n",
       "      <td>0.00</td>\n",
       "      <td>0.00</td>\n",
       "      <td>0.00</td>\n",
       "      <td>0.00</td>\n",
       "      <td>0.00</td>\n",
       "      <td>0.00</td>\n",
       "    </tr>\n",
       "    <tr>\n",
       "      <th>2</th>\n",
       "      <td>0.00</td>\n",
       "      <td>0.00</td>\n",
       "      <td>0.00</td>\n",
       "      <td>0.00</td>\n",
       "      <td>0.00</td>\n",
       "      <td>0.00</td>\n",
       "      <td>0.00</td>\n",
       "      <td>0.00</td>\n",
       "      <td>0.00</td>\n",
       "      <td>0.00</td>\n",
       "      <td>...</td>\n",
       "      <td>0.00</td>\n",
       "      <td>0.00</td>\n",
       "      <td>0.00</td>\n",
       "      <td>0.00</td>\n",
       "      <td>0.09</td>\n",
       "      <td>0.00</td>\n",
       "      <td>0.00</td>\n",
       "      <td>0.00</td>\n",
       "      <td>0.00</td>\n",
       "      <td>0.00</td>\n",
       "    </tr>\n",
       "    <tr>\n",
       "      <th>3</th>\n",
       "      <td>0.00</td>\n",
       "      <td>0.00</td>\n",
       "      <td>0.00</td>\n",
       "      <td>0.00</td>\n",
       "      <td>0.00</td>\n",
       "      <td>0.00</td>\n",
       "      <td>0.00</td>\n",
       "      <td>0.00</td>\n",
       "      <td>0.00</td>\n",
       "      <td>0.00</td>\n",
       "      <td>...</td>\n",
       "      <td>0.00</td>\n",
       "      <td>0.00</td>\n",
       "      <td>0.00</td>\n",
       "      <td>0.00</td>\n",
       "      <td>0.00</td>\n",
       "      <td>0.00</td>\n",
       "      <td>0.00</td>\n",
       "      <td>0.00</td>\n",
       "      <td>0.06</td>\n",
       "      <td>0.06</td>\n",
       "    </tr>\n",
       "    <tr>\n",
       "      <th>4</th>\n",
       "      <td>0.00</td>\n",
       "      <td>0.00</td>\n",
       "      <td>0.00</td>\n",
       "      <td>0.00</td>\n",
       "      <td>0.00</td>\n",
       "      <td>0.00</td>\n",
       "      <td>0.05</td>\n",
       "      <td>0.00</td>\n",
       "      <td>0.00</td>\n",
       "      <td>0.00</td>\n",
       "      <td>...</td>\n",
       "      <td>0.00</td>\n",
       "      <td>0.00</td>\n",
       "      <td>0.08</td>\n",
       "      <td>0.08</td>\n",
       "      <td>0.08</td>\n",
       "      <td>0.06</td>\n",
       "      <td>0.00</td>\n",
       "      <td>0.00</td>\n",
       "      <td>0.00</td>\n",
       "      <td>0.00</td>\n",
       "    </tr>\n",
       "    <tr>\n",
       "      <th>5</th>\n",
       "      <td>0.00</td>\n",
       "      <td>0.00</td>\n",
       "      <td>0.00</td>\n",
       "      <td>0.00</td>\n",
       "      <td>0.00</td>\n",
       "      <td>0.00</td>\n",
       "      <td>0.12</td>\n",
       "      <td>0.00</td>\n",
       "      <td>0.00</td>\n",
       "      <td>0.00</td>\n",
       "      <td>...</td>\n",
       "      <td>0.00</td>\n",
       "      <td>0.00</td>\n",
       "      <td>0.00</td>\n",
       "      <td>0.00</td>\n",
       "      <td>0.02</td>\n",
       "      <td>0.00</td>\n",
       "      <td>0.00</td>\n",
       "      <td>0.00</td>\n",
       "      <td>0.00</td>\n",
       "      <td>0.00</td>\n",
       "    </tr>\n",
       "    <tr>\n",
       "      <th>6</th>\n",
       "      <td>0.00</td>\n",
       "      <td>0.04</td>\n",
       "      <td>0.04</td>\n",
       "      <td>0.00</td>\n",
       "      <td>0.00</td>\n",
       "      <td>0.00</td>\n",
       "      <td>0.08</td>\n",
       "      <td>0.04</td>\n",
       "      <td>0.00</td>\n",
       "      <td>0.00</td>\n",
       "      <td>...</td>\n",
       "      <td>0.00</td>\n",
       "      <td>0.00</td>\n",
       "      <td>0.00</td>\n",
       "      <td>0.00</td>\n",
       "      <td>0.06</td>\n",
       "      <td>0.13</td>\n",
       "      <td>0.04</td>\n",
       "      <td>0.00</td>\n",
       "      <td>0.00</td>\n",
       "      <td>0.00</td>\n",
       "    </tr>\n",
       "    <tr>\n",
       "      <th>7</th>\n",
       "      <td>0.00</td>\n",
       "      <td>0.00</td>\n",
       "      <td>0.00</td>\n",
       "      <td>0.00</td>\n",
       "      <td>0.00</td>\n",
       "      <td>0.00</td>\n",
       "      <td>0.02</td>\n",
       "      <td>0.00</td>\n",
       "      <td>0.00</td>\n",
       "      <td>0.00</td>\n",
       "      <td>...</td>\n",
       "      <td>0.00</td>\n",
       "      <td>0.00</td>\n",
       "      <td>0.00</td>\n",
       "      <td>0.00</td>\n",
       "      <td>0.11</td>\n",
       "      <td>0.00</td>\n",
       "      <td>0.00</td>\n",
       "      <td>0.00</td>\n",
       "      <td>0.00</td>\n",
       "      <td>0.00</td>\n",
       "    </tr>\n",
       "    <tr>\n",
       "      <th>8</th>\n",
       "      <td>0.06</td>\n",
       "      <td>0.00</td>\n",
       "      <td>0.00</td>\n",
       "      <td>0.00</td>\n",
       "      <td>0.00</td>\n",
       "      <td>0.00</td>\n",
       "      <td>0.00</td>\n",
       "      <td>0.00</td>\n",
       "      <td>0.06</td>\n",
       "      <td>0.00</td>\n",
       "      <td>...</td>\n",
       "      <td>0.00</td>\n",
       "      <td>0.06</td>\n",
       "      <td>0.00</td>\n",
       "      <td>0.00</td>\n",
       "      <td>0.16</td>\n",
       "      <td>0.04</td>\n",
       "      <td>0.05</td>\n",
       "      <td>0.06</td>\n",
       "      <td>0.00</td>\n",
       "      <td>0.00</td>\n",
       "    </tr>\n",
       "  </tbody>\n",
       "</table>\n",
       "<p>9 rows × 567 columns</p>\n",
       "</div>"
      ],
      "text/plain": [
       "   acidic  acquit  admit  affect    ah  ahead    ai  aight  alien   all  ...  \\\n",
       "0    0.00    0.00   0.00    0.00  0.06   0.00  0.00   0.00   0.00  0.06  ...   \n",
       "1    0.00    0.00   0.00    0.11  0.00   0.11  0.13   0.00   0.00  0.00  ...   \n",
       "2    0.00    0.00   0.00    0.00  0.00   0.00  0.00   0.00   0.00  0.00  ...   \n",
       "3    0.00    0.00   0.00    0.00  0.00   0.00  0.00   0.00   0.00  0.00  ...   \n",
       "4    0.00    0.00   0.00    0.00  0.00   0.00  0.05   0.00   0.00  0.00  ...   \n",
       "5    0.00    0.00   0.00    0.00  0.00   0.00  0.12   0.00   0.00  0.00  ...   \n",
       "6    0.00    0.04   0.04    0.00  0.00   0.00  0.08   0.04   0.00  0.00  ...   \n",
       "7    0.00    0.00   0.00    0.00  0.00   0.00  0.02   0.00   0.00  0.00  ...   \n",
       "8    0.06    0.00   0.00    0.00  0.00   0.00  0.00   0.00   0.06  0.00  ...   \n",
       "\n",
       "   write  writin  written  wrong  yeah   yes  young  zone  ã¾ar  ã¾ess  \n",
       "0   0.00    0.00     0.00   0.00  0.08  0.00   0.00  0.00  0.00   0.00  \n",
       "1   0.11    0.00     0.00   0.00  0.00  0.00   0.00  0.00  0.00   0.00  \n",
       "2   0.00    0.00     0.00   0.00  0.09  0.00   0.00  0.00  0.00   0.00  \n",
       "3   0.00    0.00     0.00   0.00  0.00  0.00   0.00  0.00  0.06   0.06  \n",
       "4   0.00    0.00     0.08   0.08  0.08  0.06   0.00  0.00  0.00   0.00  \n",
       "5   0.00    0.00     0.00   0.00  0.02  0.00   0.00  0.00  0.00   0.00  \n",
       "6   0.00    0.00     0.00   0.00  0.06  0.13   0.04  0.00  0.00   0.00  \n",
       "7   0.00    0.00     0.00   0.00  0.11  0.00   0.00  0.00  0.00   0.00  \n",
       "8   0.00    0.06     0.00   0.00  0.16  0.04   0.05  0.06  0.00   0.00  \n",
       "\n",
       "[9 rows x 567 columns]"
      ]
     },
     "execution_count": 114,
     "metadata": {},
     "output_type": "execute_result"
    }
   ],
   "source": [
    "tf_vec=pd.DataFrame(vectorized_lyrics.todense().round(2), columns=tf.get_feature_names())  #index=X\n",
    "tf_vec"
   ]
  },
  {
   "cell_type": "code",
   "execution_count": 115,
   "metadata": {},
   "outputs": [],
   "source": [
    "from sklearn.metrics import plot_confusion_matrix\n",
    "from sklearn.metrics import accuracy_score, precision_score, recall_score, confusion_matrix, f1_score"
   ]
  },
  {
   "cell_type": "code",
   "execution_count": 116,
   "metadata": {},
   "outputs": [],
   "source": [
    "def evaluations(X_test_transf,y_test, model):\n",
    "    \"\"\"Model evaluation metrics\"\"\"\n",
    "    y_pred=model.predict(X_test_transf)\n",
    "\n",
    "    print(f'How does model {model} score:')\n",
    "    print(f'The accuracy of the model is: {round(accuracy_score(y_test, y_pred), 3)}')\n",
    "    print(f'The precision of the model is: {round(precision_score(y_test, y_pred, pos_label=y),3)}')\n",
    "    print(f'The recall of the model is: {round(recall_score(y_test, y_pred), 3)}')\n",
    "    print(f'The f1-score of the model is: {round(f1_score(y_test, y_pred), 3)}')\n",
    "    #print confusion matrix\n",
    "    fig = plt.figure(figsize=(10, 8))\n",
    "    cm=plot_confusion_matrix(model, X_test_transf, y_test,cmap=plt.cm.Blues, display_labels=['Kaleo','Logic'])\n",
    "    print(cm)"
   ]
  },
  {
   "cell_type": "markdown",
   "metadata": {},
   "source": [
    "### Naive Bayes"
   ]
  },
  {
   "cell_type": "code",
   "execution_count": 117,
   "metadata": {},
   "outputs": [
    {
     "data": {
      "text/plain": [
       "MultinomialNB(alpha=0.1)"
      ]
     },
     "execution_count": 117,
     "metadata": {},
     "output_type": "execute_result"
    }
   ],
   "source": [
    "nbm = MultinomialNB(alpha=0.1)\n",
    "nbm.fit(tf_vec,y_train)"
   ]
  },
  {
   "cell_type": "code",
   "execution_count": 118,
   "metadata": {},
   "outputs": [
    {
     "name": "stdout",
     "output_type": "stream",
     "text": [
      "NB train score: 1.0\n"
     ]
    }
   ],
   "source": [
    "train_score = nbm.score(tf_vec, y_train)\n",
    "print(\"NB train score:\",train_score)"
   ]
  },
  {
   "cell_type": "code",
   "execution_count": 119,
   "metadata": {},
   "outputs": [
    {
     "name": "stdout",
     "output_type": "stream",
     "text": [
      "NB test score: 1.0\n"
     ]
    }
   ],
   "source": [
    "test_score=round(nbm.score(X_test_transf,y_test),1)\n",
    "test_score\n",
    "print(\"NB test score:\",test_score)"
   ]
  },
  {
   "cell_type": "code",
   "execution_count": 120,
   "metadata": {},
   "outputs": [
    {
     "name": "stdout",
     "output_type": "stream",
     "text": [
      "Cross-validation mean: 1.0\n"
     ]
    },
    {
     "name": "stderr",
     "output_type": "stream",
     "text": [
      "C:\\Users\\49178\\anaconda3\\lib\\site-packages\\sklearn\\utils\\validation.py:63: FutureWarning: Arrays of bytes/strings is being converted to decimal numbers if dtype='numeric'. This behavior is deprecated in 0.24 and will be removed in 1.1 (renaming of 0.26). Please convert your data to numeric values explicitly instead.\n",
      "  return f(*args, **kwargs)\n",
      "C:\\Users\\49178\\anaconda3\\lib\\site-packages\\sklearn\\utils\\validation.py:63: FutureWarning: Arrays of bytes/strings is being converted to decimal numbers if dtype='numeric'. This behavior is deprecated in 0.24 and will be removed in 1.1 (renaming of 0.26). Please convert your data to numeric values explicitly instead.\n",
      "  return f(*args, **kwargs)\n"
     ]
    }
   ],
   "source": [
    "cv=cross_val_score(nbm, tf_vec, y_train, cv=2, scoring='r2')\n",
    "cv_mean = cv.mean()\n",
    "print('Cross-validation mean:', cv.mean())"
   ]
  },
  {
   "cell_type": "code",
   "execution_count": 121,
   "metadata": {},
   "outputs": [
    {
     "data": {
      "text/plain": [
       "array(['1', '1', '0'], dtype='<U1')"
      ]
     },
     "execution_count": 121,
     "metadata": {},
     "output_type": "execute_result"
    }
   ],
   "source": [
    "y_pred=nbm.predict(X_test_transf)\n",
    "y_pred"
   ]
  },
  {
   "cell_type": "code",
   "execution_count": 122,
   "metadata": {},
   "outputs": [
    {
     "data": {
      "text/plain": [
       "1.0"
      ]
     },
     "execution_count": 122,
     "metadata": {},
     "output_type": "execute_result"
    }
   ],
   "source": [
    "nb_ac=round(nbm.score(X_test_transf,y_test),3) \n",
    "nb_ac"
   ]
  },
  {
   "cell_type": "code",
   "execution_count": 123,
   "metadata": {},
   "outputs": [
    {
     "name": "stdout",
     "output_type": "stream",
     "text": [
      "              precision    recall  f1-score   support\n",
      "\n",
      "           0       1.00      1.00      1.00         1\n",
      "           1       1.00      1.00      1.00         2\n",
      "\n",
      "    accuracy                           1.00         3\n",
      "   macro avg       1.00      1.00      1.00         3\n",
      "weighted avg       1.00      1.00      1.00         3\n",
      "\n"
     ]
    }
   ],
   "source": [
    "print(classification_report(y_test, y_pred))"
   ]
  },
  {
   "cell_type": "markdown",
   "metadata": {},
   "source": [
    "### Logistic Regression"
   ]
  },
  {
   "cell_type": "code",
   "execution_count": 124,
   "metadata": {},
   "outputs": [
    {
     "data": {
      "text/plain": [
       "LogisticRegression()"
      ]
     },
     "execution_count": 124,
     "metadata": {},
     "output_type": "execute_result"
    }
   ],
   "source": [
    "lm=LogisticRegression()\n",
    "lm.fit(tf_vec,y_train)"
   ]
  },
  {
   "cell_type": "code",
   "execution_count": 125,
   "metadata": {},
   "outputs": [
    {
     "name": "stdout",
     "output_type": "stream",
     "text": [
      "NB train score: 1.0\n"
     ]
    }
   ],
   "source": [
    "train_score = lm.score(tf_vec, y_train)\n",
    "print(\"NB train score:\",train_score)"
   ]
  },
  {
   "cell_type": "code",
   "execution_count": 126,
   "metadata": {},
   "outputs": [
    {
     "name": "stdout",
     "output_type": "stream",
     "text": [
      "NB test score: 0.7\n"
     ]
    }
   ],
   "source": [
    "test_score=round(lm.score(X_test_transf,y_test),1)\n",
    "test_score\n",
    "print(\"NB test score:\",test_score)"
   ]
  },
  {
   "cell_type": "code",
   "execution_count": 127,
   "metadata": {},
   "outputs": [
    {
     "name": "stdout",
     "output_type": "stream",
     "text": [
      "Cross-validation mean: 0.0\n"
     ]
    }
   ],
   "source": [
    "cv=cross_val_score(lm, tf_vec, y_train, cv=2, scoring='r2')\n",
    "cv_mean = cv.mean()\n",
    "print('Cross-validation mean:', cv.mean())"
   ]
  },
  {
   "cell_type": "code",
   "execution_count": 128,
   "metadata": {},
   "outputs": [
    {
     "data": {
      "text/plain": [
       "array(['1', '1', '1'], dtype=object)"
      ]
     },
     "execution_count": 128,
     "metadata": {},
     "output_type": "execute_result"
    }
   ],
   "source": [
    "y_pred=lm.predict(X_test_transf)\n",
    "y_pred"
   ]
  },
  {
   "cell_type": "code",
   "execution_count": 129,
   "metadata": {},
   "outputs": [
    {
     "data": {
      "text/plain": [
       "0.667"
      ]
     },
     "execution_count": 129,
     "metadata": {},
     "output_type": "execute_result"
    }
   ],
   "source": [
    "log_ac=round(lm.score(X_test_transf,y_test),3) \n",
    "log_ac"
   ]
  },
  {
   "cell_type": "code",
   "execution_count": 130,
   "metadata": {},
   "outputs": [
    {
     "name": "stdout",
     "output_type": "stream",
     "text": [
      "              precision    recall  f1-score   support\n",
      "\n",
      "           0       0.00      0.00      0.00         1\n",
      "           1       0.67      1.00      0.80         2\n",
      "\n",
      "    accuracy                           0.67         3\n",
      "   macro avg       0.33      0.50      0.40         3\n",
      "weighted avg       0.44      0.67      0.53         3\n",
      "\n"
     ]
    },
    {
     "name": "stderr",
     "output_type": "stream",
     "text": [
      "C:\\Users\\49178\\anaconda3\\lib\\site-packages\\sklearn\\metrics\\_classification.py:1248: UndefinedMetricWarning: Precision and F-score are ill-defined and being set to 0.0 in labels with no predicted samples. Use `zero_division` parameter to control this behavior.\n",
      "  _warn_prf(average, modifier, msg_start, len(result))\n",
      "C:\\Users\\49178\\anaconda3\\lib\\site-packages\\sklearn\\metrics\\_classification.py:1248: UndefinedMetricWarning: Precision and F-score are ill-defined and being set to 0.0 in labels with no predicted samples. Use `zero_division` parameter to control this behavior.\n",
      "  _warn_prf(average, modifier, msg_start, len(result))\n",
      "C:\\Users\\49178\\anaconda3\\lib\\site-packages\\sklearn\\metrics\\_classification.py:1248: UndefinedMetricWarning: Precision and F-score are ill-defined and being set to 0.0 in labels with no predicted samples. Use `zero_division` parameter to control this behavior.\n",
      "  _warn_prf(average, modifier, msg_start, len(result))\n"
     ]
    }
   ],
   "source": [
    "print(classification_report(y_test, y_pred))"
   ]
  },
  {
   "cell_type": "markdown",
   "metadata": {},
   "source": [
    "### Random Forest"
   ]
  },
  {
   "cell_type": "code",
   "execution_count": 149,
   "metadata": {},
   "outputs": [
    {
     "data": {
      "text/plain": [
       "RandomForestClassifier()"
      ]
     },
     "execution_count": 149,
     "metadata": {},
     "output_type": "execute_result"
    }
   ],
   "source": [
    "rfm=RandomForestClassifier()\n",
    "rfm.fit(tf_vec,y_train)"
   ]
  },
  {
   "cell_type": "code",
   "execution_count": 150,
   "metadata": {},
   "outputs": [
    {
     "name": "stdout",
     "output_type": "stream",
     "text": [
      "NB train score: 1.0\n"
     ]
    }
   ],
   "source": [
    "train_score = rfm.score(tf_vec, y_train)\n",
    "print(\"NB train score:\",train_score)"
   ]
  },
  {
   "cell_type": "code",
   "execution_count": 151,
   "metadata": {},
   "outputs": [
    {
     "name": "stdout",
     "output_type": "stream",
     "text": [
      "NB test score: 0.7\n"
     ]
    }
   ],
   "source": [
    "test_score=round(rfm.score(X_test_transf,y_test),1)\n",
    "test_score\n",
    "print(\"NB test score:\",test_score)"
   ]
  },
  {
   "cell_type": "code",
   "execution_count": 152,
   "metadata": {},
   "outputs": [
    {
     "name": "stdout",
     "output_type": "stream",
     "text": [
      "Cross-validation mean: -0.7499999999999998\n"
     ]
    }
   ],
   "source": [
    "cv=cross_val_score(rfm, tf_vec, y_train, cv=2, scoring='r2')\n",
    "cv_mean = cv.mean()\n",
    "print('Cross-validation mean:', cv.mean())"
   ]
  },
  {
   "cell_type": "code",
   "execution_count": 153,
   "metadata": {},
   "outputs": [
    {
     "data": {
      "text/plain": [
       "array(['0', '1', '0'], dtype=object)"
      ]
     },
     "execution_count": 153,
     "metadata": {},
     "output_type": "execute_result"
    }
   ],
   "source": [
    "y_pred=rfm.predict(X_test_transf)\n",
    "y_pred"
   ]
  },
  {
   "cell_type": "code",
   "execution_count": 154,
   "metadata": {},
   "outputs": [
    {
     "data": {
      "text/plain": [
       "0.667"
      ]
     },
     "execution_count": 154,
     "metadata": {},
     "output_type": "execute_result"
    }
   ],
   "source": [
    "rf_ac=round(rfm.score(X_test_transf,y_test),3) \n",
    "rf_ac"
   ]
  },
  {
   "cell_type": "code",
   "execution_count": 155,
   "metadata": {},
   "outputs": [
    {
     "name": "stdout",
     "output_type": "stream",
     "text": [
      "              precision    recall  f1-score   support\n",
      "\n",
      "           0       0.50      1.00      0.67         1\n",
      "           1       1.00      0.50      0.67         2\n",
      "\n",
      "    accuracy                           0.67         3\n",
      "   macro avg       0.75      0.75      0.67         3\n",
      "weighted avg       0.83      0.67      0.67         3\n",
      "\n"
     ]
    }
   ],
   "source": [
    "print(classification_report(y_test, y_pred))  #checking for "
   ]
  },
  {
   "cell_type": "markdown",
   "metadata": {},
   "source": [
    "### Comparing the models"
   ]
  },
  {
   "cell_type": "code",
   "execution_count": 156,
   "metadata": {},
   "outputs": [
    {
     "data": {
      "text/html": [
       "<div>\n",
       "<style scoped>\n",
       "    .dataframe tbody tr th:only-of-type {\n",
       "        vertical-align: middle;\n",
       "    }\n",
       "\n",
       "    .dataframe tbody tr th {\n",
       "        vertical-align: top;\n",
       "    }\n",
       "\n",
       "    .dataframe thead th {\n",
       "        text-align: right;\n",
       "    }\n",
       "</style>\n",
       "<table border=\"1\" class=\"dataframe\">\n",
       "  <thead>\n",
       "    <tr style=\"text-align: right;\">\n",
       "      <th></th>\n",
       "      <th>Models</th>\n",
       "      <th>Scores</th>\n",
       "    </tr>\n",
       "  </thead>\n",
       "  <tbody>\n",
       "    <tr>\n",
       "      <th>0</th>\n",
       "      <td>Naive Bayes</td>\n",
       "      <td>1.000</td>\n",
       "    </tr>\n",
       "    <tr>\n",
       "      <th>1</th>\n",
       "      <td>Logistic Regression</td>\n",
       "      <td>0.667</td>\n",
       "    </tr>\n",
       "    <tr>\n",
       "      <th>2</th>\n",
       "      <td>Random Forest</td>\n",
       "      <td>0.667</td>\n",
       "    </tr>\n",
       "  </tbody>\n",
       "</table>\n",
       "</div>"
      ],
      "text/plain": [
       "                Models  Scores\n",
       "0          Naive Bayes   1.000\n",
       "1  Logistic Regression   0.667\n",
       "2        Random Forest   0.667"
      ]
     },
     "execution_count": 156,
     "metadata": {},
     "output_type": "execute_result"
    }
   ],
   "source": [
    "models = pd.DataFrame({                                              #creating all new dataframe with all the models results in\n",
    "    'Models': ['Naive Bayes','Logistic Regression','Random Forest'],  #for a better comparizon\n",
    "    \n",
    "    'Scores': [nb_ac, log_ac,  rf_ac]\n",
    "    })\n",
    "\n",
    "models.sort_values(by='Scores', ascending=False)"
   ]
  }
 ],
 "metadata": {
  "kernelspec": {
   "display_name": "Python 3",
   "language": "python",
   "name": "python3"
  },
  "language_info": {
   "codemirror_mode": {
    "name": "ipython",
    "version": 3
   },
   "file_extension": ".py",
   "mimetype": "text/x-python",
   "name": "python",
   "nbconvert_exporter": "python",
   "pygments_lexer": "ipython3",
   "version": "3.8.5"
  }
 },
 "nbformat": 4,
 "nbformat_minor": 4
}
